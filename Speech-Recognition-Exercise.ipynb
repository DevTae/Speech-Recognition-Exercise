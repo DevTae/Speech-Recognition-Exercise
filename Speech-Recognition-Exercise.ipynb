{
 "cells": [
  {
   "cell_type": "code",
   "execution_count": null,
   "id": "9f35370c",
   "metadata": {},
   "outputs": [],
   "source": [
    "# 강의 url : https://youtube.com/playlist?list=PL9mhQYIlKEhdrYpsGk8X4qj3tQUuaDhrl\n",
    "# 참조 논문 : Deep Speech to, Listen attend and spell\n",
    "# 딥러닝 기초 리뷰 : FC Layer, CNN, RNN, LSTM, Attention\n",
    "# Audio Classfication & Tagging : 데이터 파이프라인의 이해\n",
    "# CTC : 논문의 이해, CTC Loss 쓰는 법, Deep Speech2 구현\n",
    "# LAS : Extra 모델 아키텍쳐 이해"
   ]
  },
  {
   "cell_type": "code",
   "execution_count": null,
   "id": "43954060",
   "metadata": {},
   "outputs": [],
   "source": [
    "# Spectrogram 을 input 으로 받고, invariant convolution 을 거친 다음에, RNN (Recurrent Neural Network) 을 거치고, Fully Connected 를 거친다.\n",
    "# 마지막으로 나온 CTC(Connectionist Temporal Classification) 를 Decode 하여 결과값을 얻어냄.\n",
    "# IO Module, Network Architecture, Loss 함수만 잘 설정하면 좋은 모델 만들 수 있음."
   ]
  },
  {
   "cell_type": "code",
   "execution_count": null,
   "id": "b56c83b9",
   "metadata": {},
   "outputs": [],
   "source": [
    "# Connectivity Patterns + Nonlinearity modules\n",
    "\n",
    "# Connectivity Patterns\n",
    "# - Fully-Connected\n",
    "# - Convolutional\n",
    "# - Dilated\n",
    "# - Recurrent\n",
    "# - Skip / Residual\n",
    "# - Random\n",
    "\n",
    "# Nonlinearity modules\n",
    "# - ReLU\n",
    "# - Sigmoid\n",
    "# - Tanh\n",
    "# - GRU\n",
    "# - LSTM\n",
    "\n",
    "# Loss\n",
    "# - Cross Entropy\n",
    "# - Adversarial\n",
    "# - Variational\n",
    "# - Maximum Likelihood\n",
    "# - L1 and L2\n",
    "\n",
    "# Optimizer\n",
    "# - SGD\n",
    "# - Momentum\n",
    "# - RMSProp\n",
    "# - Adagrad\n",
    "# - Adam\n",
    "# - Second Order\n",
    "\n",
    "# Hyper Parameters\n",
    "# - Learning rate\n",
    "# - Weight decay\n",
    "# - Layer size\n",
    "# - Batch size\n",
    "# - Dropout rate\n",
    "# - Weight initialization\n",
    "# - Data augmentation\n",
    "# - Gradient clipping\n",
    "# - Momentum\n",
    "\n",
    "# 13분경 이어서 학습"
   ]
  }
 ],
 "metadata": {
  "kernelspec": {
   "display_name": "Python 3 (ipykernel)",
   "language": "python",
   "name": "python3"
  },
  "language_info": {
   "codemirror_mode": {
    "name": "ipython",
    "version": 3
   },
   "file_extension": ".py",
   "mimetype": "text/x-python",
   "name": "python",
   "nbconvert_exporter": "python",
   "pygments_lexer": "ipython3",
   "version": "3.9.7"
  }
 },
 "nbformat": 4,
 "nbformat_minor": 5
}
